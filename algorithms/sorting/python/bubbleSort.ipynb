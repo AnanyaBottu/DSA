{
  "cells": [
    {
      "cell_type": "markdown",
      "metadata": {},
      "source": [
        "# Bubble Sort\n",
        "**Time:** O(n^2) \n",
        "\n",
        "**Space:** O(1)\n"
      ]
    },
    {
      "cell_type": "code",
      "execution_count": 2,
      "metadata": {
        "colab": {
          "base_uri": "https://localhost:8080/"
        },
        "id": "Y7uSsgoLKOMJ",
        "outputId": "68d442c5-3834-4210-cf24-992ec2f35a50"
      },
      "outputs": [
        {
          "name": "stdout",
          "output_type": "stream",
          "text": [
            "Sorted Array: \n"
          ]
        },
        {
          "data": {
            "text/plain": [
              "[-5, -3, -3, 1, 2, 2, 2, 3, 7]"
            ]
          },
          "execution_count": 2,
          "metadata": {},
          "output_type": "execute_result"
        }
      ],
      "source": [
        "A = [-5, 3, 2, 1, -3, -3, 7, 2, 2]\n",
        "\n",
        "def bubble_sort(arr):\n",
        "  n = len(arr)\n",
        "  flag = True\n",
        "  while flag:\n",
        "    flag = False\n",
        "    for i in range(1, n):\n",
        "      if arr[i-1] > arr[i]:\n",
        "        flag = True\n",
        "        arr[i-1], arr[i] = arr[i], arr[i-1]\n",
        "\n",
        "bubble_sort(A)\n",
        "print(\"Sorted Array: \")\n",
        "A"
      ]
    }
  ],
  "metadata": {
    "colab": {
      "provenance": []
    },
    "kernelspec": {
      "display_name": "Python 3",
      "name": "python3"
    },
    "language_info": {
      "codemirror_mode": {
        "name": "ipython",
        "version": 3
      },
      "file_extension": ".py",
      "mimetype": "text/x-python",
      "name": "python",
      "nbconvert_exporter": "python",
      "pygments_lexer": "ipython3",
      "version": "3.12.4"
    }
  },
  "nbformat": 4,
  "nbformat_minor": 0
}
