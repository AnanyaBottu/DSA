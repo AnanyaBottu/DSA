{
 "cells": [
  {
   "cell_type": "markdown",
   "id": "4843d9d5",
   "metadata": {},
   "source": [
    "# Merge Sort\n",
    "**Time:** O(nlog(n)) \n",
    "\n",
    "**Space:** O(n)\n"
   ]
  },
  {
   "cell_type": "code",
   "execution_count": 2,
   "id": "4bdfd35f",
   "metadata": {},
   "outputs": [
    {
     "data": {
      "text/plain": [
       "[-5, -3, -3, 1, 2, 2, 2, 3, 7]"
      ]
     },
     "execution_count": 2,
     "metadata": {},
     "output_type": "execute_result"
    }
   ],
   "source": [
    "E = [-5, 3, 2, 1, -3, -3, 7, 2, 2]\n",
    "\n",
    "def quick_sort(arr):\n",
    "    if len(arr) <= 1:\n",
    "        return arr\n",
    "\n",
    "    p = arr[len(arr) // 2]\n",
    "\n",
    "    L = [x for x in arr if x < p]\n",
    "    M = [x for x in arr if x == p]\n",
    "    R = [x for x in arr if x > p]\n",
    "\n",
    "    return quick_sort(L) + M + quick_sort(R)\n",
    "\n",
    "quick_sort(E)\n"
   ]
  },
  {
   "cell_type": "code",
   "execution_count": 5,
   "id": "e348403d",
   "metadata": {},
   "outputs": [
    {
     "data": {
      "text/plain": [
       "[-5, -3, -3, 1, 2, 2, 2, 3, 7]"
      ]
     },
     "execution_count": 5,
     "metadata": {},
     "output_type": "execute_result"
    }
   ],
   "source": [
    "E = [-5, 3, 2, 1, -3, -3, 7, 2, 2]\n",
    "\n",
    "def quick_sort_inplace(arr):\n",
    "    def _quick_sort(arr, low, high):\n",
    "        if low < high:\n",
    "            pivot_index = partition(arr, low, high)\n",
    "            _quick_sort(arr, low, pivot_index - 1)\n",
    "            _quick_sort(arr, pivot_index + 1, high)\n",
    "\n",
    "    def partition(arr, low, high):\n",
    "        pivot = arr[high]  # You can also choose middle element as pivot\n",
    "        i = low - 1\n",
    "        for j in range(low, high):\n",
    "            if arr[j] <= pivot:\n",
    "                i += 1\n",
    "                arr[i], arr[j] = arr[j], arr[i]\n",
    "        arr[i+1], arr[high] = arr[high], arr[i+1]\n",
    "        return i + 1\n",
    "\n",
    "    _quick_sort(arr, 0, len(arr) - 1)\n",
    "\n",
    "\n",
    "quick_sort_inplace(E)\n",
    "E"
   ]
  }
 ],
 "metadata": {
  "kernelspec": {
   "display_name": "Python 3",
   "language": "python",
   "name": "python3"
  },
  "language_info": {
   "codemirror_mode": {
    "name": "ipython",
    "version": 3
   },
   "file_extension": ".py",
   "mimetype": "text/x-python",
   "name": "python",
   "nbconvert_exporter": "python",
   "pygments_lexer": "ipython3",
   "version": "3.12.4"
  }
 },
 "nbformat": 4,
 "nbformat_minor": 5
}
