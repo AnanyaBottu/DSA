{
 "cells": [
  {
   "cell_type": "markdown",
   "id": "29704f66",
   "metadata": {},
   "source": [
    "# Insertion Sort\n",
    "**Time:** O(n^2) \n",
    "\n",
    "**Space:** O(1)\n"
   ]
  },
  {
   "cell_type": "code",
   "execution_count": 5,
   "id": "6da540d6",
   "metadata": {},
   "outputs": [
    {
     "name": "stdout",
     "output_type": "stream",
     "text": [
      "Sorted Array: \n"
     ]
    },
    {
     "data": {
      "text/plain": [
       "[-5, -3, -3, 1, 2, 2, 2, 3, 7]"
      ]
     },
     "execution_count": 5,
     "metadata": {},
     "output_type": "execute_result"
    }
   ],
   "source": [
    "B = [-5, 3, 2, 1, -3, -3, 7, 2, 2]\n",
    "\n",
    "def insertion_sort(arr):\n",
    "  n = len(arr)\n",
    "  for i in range(1, n):\n",
    "    for j in range(i, 0, -1):\n",
    "      if arr[j-1] > arr[j]:\n",
    "        arr[j-1], arr[j] = arr[j], arr[j-1]\n",
    "      else:\n",
    "        break\n",
    "\n",
    "insertion_sort(B)\n",
    "print(\"Sorted Array: \")\n",
    "B"
   ]
  }
 ],
 "metadata": {
  "kernelspec": {
   "display_name": "Python 3",
   "language": "python",
   "name": "python3"
  },
  "language_info": {
   "codemirror_mode": {
    "name": "ipython",
    "version": 3
   },
   "file_extension": ".py",
   "mimetype": "text/x-python",
   "name": "python",
   "nbconvert_exporter": "python",
   "pygments_lexer": "ipython3",
   "version": "3.12.4"
  }
 },
 "nbformat": 4,
 "nbformat_minor": 5
}
