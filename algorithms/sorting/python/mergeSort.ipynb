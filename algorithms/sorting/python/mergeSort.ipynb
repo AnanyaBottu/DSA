{
 "cells": [
  {
   "cell_type": "markdown",
   "id": "d908ffea",
   "metadata": {},
   "source": [
    "# Merge Sort\n",
    "**Time:** O(nlog(n)) \n",
    "\n",
    "**Space:** O(n)\n"
   ]
  },
  {
   "cell_type": "code",
   "execution_count": 4,
   "id": "16400364",
   "metadata": {},
   "outputs": [
    {
     "name": "stdout",
     "output_type": "stream",
     "text": [
      "Sorted Array: \n"
     ]
    },
    {
     "data": {
      "text/plain": [
       "[-5, -3, -3, 1, 2, 2, 2, 3, 7]"
      ]
     },
     "execution_count": 4,
     "metadata": {},
     "output_type": "execute_result"
    }
   ],
   "source": [
    "D = [-5, 3, 2, 1, -3, -3, 7, 2, 2]\n",
    "\n",
    "def merge_sort(arr):\n",
    "  n = len(arr)\n",
    "\n",
    "  if n == 1:\n",
    "    return arr\n",
    "\n",
    "  m = len(arr) // 2\n",
    "  L = arr[:m]\n",
    "  R = arr[m:]\n",
    "\n",
    "  L = merge_sort(L)\n",
    "  R = merge_sort(R)\n",
    "  l, r = 0, 0\n",
    "  L_len = len(L)\n",
    "  R_len = len(R)\n",
    "\n",
    "  sorted_arr = [0] * n\n",
    "  i = 0\n",
    "\n",
    "  while l < L_len and r < R_len:\n",
    "    if L[l] < R[r]:\n",
    "      sorted_arr[i] = L[l]\n",
    "      l += 1\n",
    "    else:\n",
    "      sorted_arr[i] = R[r]\n",
    "      r += 1\n",
    "\n",
    "    i += 1\n",
    "\n",
    "  while l < L_len:\n",
    "    sorted_arr[i] = L[l]\n",
    "    l += 1\n",
    "    i += 1\n",
    "\n",
    "  while r < R_len:\n",
    "    sorted_arr[i] = R[r]\n",
    "    r += 1\n",
    "    i += 1\n",
    "\n",
    "  return sorted_arr\n",
    "\n",
    "print(\"Sorted Array: \")\n",
    "merge_sort(D)\n",
    "\n"
   ]
  }
 ],
 "metadata": {
  "kernelspec": {
   "display_name": "Python 3",
   "language": "python",
   "name": "python3"
  },
  "language_info": {
   "codemirror_mode": {
    "name": "ipython",
    "version": 3
   },
   "file_extension": ".py",
   "mimetype": "text/x-python",
   "name": "python",
   "nbconvert_exporter": "python",
   "pygments_lexer": "ipython3",
   "version": "3.12.4"
  }
 },
 "nbformat": 4,
 "nbformat_minor": 5
}
