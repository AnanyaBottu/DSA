{
 "cells": [
  {
   "cell_type": "markdown",
   "id": "aee3da65",
   "metadata": {},
   "source": [
    "# Selection Sort\n",
    "**Time:** O(n^2) \n",
    "\n",
    "**Space:** O(1)\n"
   ]
  },
  {
   "cell_type": "code",
   "execution_count": 5,
   "id": "27ba0b5f",
   "metadata": {},
   "outputs": [
    {
     "name": "stdout",
     "output_type": "stream",
     "text": [
      "Sorted Array: \n"
     ]
    },
    {
     "data": {
      "text/plain": [
       "[-5, -3, -3, 1, 2, 2, 2, 3, 7]"
      ]
     },
     "execution_count": 5,
     "metadata": {},
     "output_type": "execute_result"
    }
   ],
   "source": [
    "C = [-3, 3, 2, 1, -5, -3, 7, 2, 2]\n",
    "\n",
    "def selection_sort(arr):\n",
    "  n = len(arr)\n",
    "  for i in range(n):\n",
    "    min_index = i\n",
    "    for j in range(i+1, n):\n",
    "      if arr[j] < arr[min_index]:\n",
    "        min_index = j\n",
    "    arr[i], arr[min_index] = arr[min_index], arr[i]\n",
    "\n",
    "selection_sort(C)\n",
    "print(\"Sorted Array: \")\n",
    "C"
   ]
  }
 ],
 "metadata": {
  "kernelspec": {
   "display_name": "Python 3",
   "language": "python",
   "name": "python3"
  },
  "language_info": {
   "codemirror_mode": {
    "name": "ipython",
    "version": 3
   },
   "file_extension": ".py",
   "mimetype": "text/x-python",
   "name": "python",
   "nbconvert_exporter": "python",
   "pygments_lexer": "ipython3",
   "version": "3.12.4"
  }
 },
 "nbformat": 4,
 "nbformat_minor": 5
}
